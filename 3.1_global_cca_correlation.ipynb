{
 "cells": [
  {
   "cell_type": "markdown",
   "metadata": {},
   "source": [
    "Correlation plots\n",
    "================="
   ]
  },
  {
   "cell_type": "code",
   "execution_count": 1,
   "metadata": {},
   "outputs": [],
   "source": [
    "from tqdm.notebook import tqdm\n",
    "import matplotlib.pyplot as plt\n",
    "import numpy as np\n",
    "import deem\n",
    "import pickle\n",
    "import pandas as pd\n",
    "import scipy\n",
    "from effect_params import effect_params_dict, effect_params_str_dict\n",
    "import os\n",
    "plt.rcParams['figure.constrained_layout.use'] = True"
   ]
  },
  {
   "cell_type": "markdown",
   "metadata": {},
   "source": [
    "**In the cell below, select the instrument by modifying the \"inst\" variable.**\n",
    "\n",
    "Instrument list:\n",
    "- clarinet\n",
    "- organ\n",
    "- cello\n",
    "- violin\n",
    "- guitar_acc\n",
    "- voice\n",
    "- guitar_ele\n",
    "- saxophone\n",
    "- trumpet\n",
    "- piano\n",
    "- flute"
   ]
  },
  {
   "cell_type": "code",
   "execution_count": 2,
   "metadata": {},
   "outputs": [],
   "source": [
    "embedding_names = [\"openl3\", \"panns\", \"clap\"]\n",
    "embedding_human_names = {\n",
    "    \"openl3\": \"OpenL3\",\n",
    "    \"panns\": \"PANNs\",\n",
    "    \"clap\": \"CLAP\"\n",
    "}\n",
    "\n",
    "effects = [\"bitcrush\", \"gain\", \"lowpass_cheby\", \"reverb\"]\n",
    "effect_human_names = {\n",
    "    \"bitcrush\": \"Bitcrushing\",\n",
    "    \"gain\": \"Gain\",\n",
    "    \"lowpass_cheby\": \"Low-pass filtering\",\n",
    "    \"reverb\": \"Reverberation\"\n",
    "}\n",
    "\n",
    "desensitization_method = 'cca'\n",
    "\n",
    "inst = \"cello\""
   ]
  },
  {
   "cell_type": "code",
   "execution_count": 3,
   "metadata": {},
   "outputs": [],
   "source": [
    "meta_all = pd.read_csv(\"train_test_split.csv\")"
   ]
  },
  {
   "cell_type": "code",
   "execution_count": 4,
   "metadata": {},
   "outputs": [],
   "source": [
    "def load_results():\n",
    "    if not os.path.isfile(\"results/correlations.csv\"):\n",
    "        return dict()\n",
    "    results_csv = pd.read_csv(\"results/correlations.csv\")\n",
    "    ret_dict = dict()\n",
    "    for row in results_csv.itertuples():\n",
    "        ret_dict[row.embedding, row.effect, row.instrument, row.desensitization_method] = (row.spearman_corr2, row.comment)\n",
    "    return ret_dict\n",
    "\n",
    "def save_results(results_dict: dict):\n",
    "    rows = []\n",
    "    for (embedding, effect, instrument, desensitization_method), (spearman_corr2, comment) in results_dict.items():\n",
    "        rows.append({\"embedding\": embedding, \"effect\": effect, \"instrument\": instrument, \"desensitization_method\": desensitization_method, \"spearman_corr2\": spearman_corr2, \"comment\": comment})\n",
    "    df = pd.DataFrame(rows, columns=[\"embedding\", \"effect\", \"instrument\", \"desensitization_method\", \"spearman_corr2\", \"comment\"])\n",
    "    df.to_csv(\"results/correlations.csv\", index=False)\n",
    "\n",
    "results_dict = load_results()"
   ]
  },
  {
   "cell_type": "code",
   "execution_count": null,
   "metadata": {},
   "outputs": [],
   "source": [
    "fig, axs = plt.subplots(len(effects), len(embedding_names), figsize=(7, 9), dpi=300, layout=\"constrained\", squeeze=False)\n",
    "\n",
    "for ieff, effect in enumerate(tqdm(effects)):\n",
    "    for iemb, embedding_name in enumerate(tqdm(embedding_names)):\n",
    "        with open(f\"models/{effect}/deformdir_{embedding_name}.pkl\", \"rb\") as f:\n",
    "            deformdirs = pickle.load(f)\n",
    "        deformdir = deformdirs[\"-cca\"][inst]\n",
    "\n",
    "        effect_params = effect_params_str_dict[effect]\n",
    "        effect_params_float = effect_params_dict[effect]\n",
    "        \n",
    "        X_all = []\n",
    "        Y_all = []\n",
    "        color_all = []\n",
    "\n",
    "        for iparam, (param_str, param_float) in enumerate(zip(tqdm(effect_params), effect_params_float)):\n",
    "            embeddings_fn = f\"embeddings/embeddings_{effect}_{param_str}.h5\"\n",
    "            (X_train, Y_train), _, _ = deem.load_feature(embeddings_fn, embedding_name, meta_all)\n",
    "            X_train_inst = X_train[Y_train==inst]\n",
    "            X_all.extend(np.sum(X_train_inst * deformdir, axis=-1))\n",
    "            Y_all.extend([iparam/len(effect_params)] * len(X_train_inst))\n",
    "            color_all.extend([param_float] * len(X_train_inst))\n",
    "\n",
    "        scat = axs[ieff, iemb].scatter(X_all, Y_all, c=color_all, marker='.', cmap='twilight_shifted', s=3)\n",
    "\n",
    "        if iemb == 0:\n",
    "            axs[ieff, iemb].set_ylabel(effect_human_names[effect] + \"\\nParam. rank\")\n",
    "        if iemb == len(embedding_names)-1:\n",
    "            cbar = fig.colorbar(scat, ax=axs[ieff, iemb])\n",
    "            # Set the ticks and labels of the colorbar\n",
    "            if effect == \"lowpass_cheby\":\n",
    "                cbar.set_ticks(np.arange(2000, 20000, 4000), labels=[str(k) for k in np.arange(2, 20, 4)])\n",
    "                cbar.set_label(\"\\\"Cutoff\\\" frequency (kHz)\")\n",
    "            elif effect == \"gain\":\n",
    "                cbar.set_ticks([-40, -30, -20, -10, 0], labels=[\"-40.0\", \"-30.0\", \"-20.0\", \"-10.0\", \"0.0\"])\n",
    "                cbar.set_label(\"Gain (dB)\")\n",
    "            elif effect == \"bitcrush\":\n",
    "                cbar.set_ticks([5, 8, 11, 14], labels=[\"5\", \"8\", \"11\", \"14\"])\n",
    "                cbar.set_label(\"Bit depth\")\n",
    "            elif effect == \"reverb\":\n",
    "                cbar.set_ticks([0.0, 0.2, 0.4, 0.6, 0.8, 1.0], labels=[\"0.0\", \"0.2\", \"0.4\", \"0.6\", \"0.8\", \"1.0\"])\n",
    "                cbar.set_label(\"Room size\")\n",
    "            else:\n",
    "                raise AssertionError(\"Unknown effect \" + effect + \"??\")\n",
    "        if ieff == len(effects)-1:\n",
    "            axs[ieff, iemb].set_xlabel(\"$\\\\langle u, \\\\Xi \\\\rangle$\\n\" + embedding_human_names[embedding_name])\n",
    "        \n",
    "        r2 = scipy.stats.spearmanr(X_all, color_all).statistic**2\n",
    "        axs[ieff, iemb].set_title(f\"$R^2 \\\\approx {r2:.4f}$\")\n",
    "\n",
    "        axs[ieff, iemb].ticklabel_format(style=\"sci\", axis=\"x\", scilimits=(-3, 3))\n",
    "\n",
    "        #print(f\"Squared Spearman correlation coefficient: {r2}\")\n",
    "        \n",
    "        key = (embedding_name, effect, inst, desensitization_method)\n",
    "        if key not in results_dict:\n",
    "            comment = \"\"\n",
    "        else:\n",
    "            comment = results_dict[key][1]\n",
    "        results_dict[key] = (r2, comment)\n",
    "        save_results(results_dict)\n",
    "\n",
    "plt.show()\n",
    "fig.savefig(f\"plots/corr/corr_{inst}.png\")"
   ]
  }
 ],
 "metadata": {
  "kernelspec": {
   "display_name": "audio-emb-sensitivity",
   "language": "python",
   "name": "python3"
  },
  "language_info": {
   "codemirror_mode": {
    "name": "ipython",
    "version": 3
   },
   "file_extension": ".py",
   "mimetype": "text/x-python",
   "name": "python",
   "nbconvert_exporter": "python",
   "pygments_lexer": "ipython3",
   "version": "3.11.9"
  }
 },
 "nbformat": 4,
 "nbformat_minor": 2
}
