{
 "cells": [
  {
   "cell_type": "markdown",
   "metadata": {},
   "source": [
    "SVD of sample-wise CCA directions for a fixed instrument\n",
    "========================================================"
   ]
  },
  {
   "cell_type": "markdown",
   "metadata": {},
   "source": [
    "## Imports and parameters"
   ]
  },
  {
   "cell_type": "code",
   "execution_count": 6,
   "metadata": {},
   "outputs": [],
   "source": [
    "import h5py\n",
    "import matplotlib.pyplot as plt\n",
    "import matplotlib.axes as maxes\n",
    "import numpy as np"
   ]
  },
  {
   "cell_type": "markdown",
   "metadata": {},
   "source": [
    "This notebook displays several plots in one row. The cell below controls which combinations of audio embeddings, audio effects and instruments are displayed in the plots.\n",
    "\n",
    "The number of plots can be different from 3, but in this case, make sure to update the figure size in the last cell as required."
   ]
  },
  {
   "cell_type": "code",
   "execution_count": 7,
   "metadata": {},
   "outputs": [],
   "source": [
    "embeddings = [\"clap\", \"panns\", \"openl3\"]\n",
    "embedding_human_names = {\n",
    "    \"clap\": \"CLAP\",\n",
    "    \"panns\": \"PANNs\",\n",
    "    \"openl3\": \"OpenL3\"\n",
    "}\n",
    "effects = [\"lowpass_cheby\", \"reverb\", \"gain\"]\n",
    "effect_human_names = {\n",
    "    \"gain\": \"gain\",\n",
    "    \"reverb\": \"reverb.\",\n",
    "    \"lowpass_cheby\": \"low-pass\"\n",
    "}\n",
    "instruments = [\"cello\"] * 3"
   ]
  },
  {
   "cell_type": "markdown",
   "metadata": {},
   "source": [
    "# Performing SVD and computing the plots"
   ]
  },
  {
   "cell_type": "code",
   "execution_count": 9,
   "metadata": {},
   "outputs": [],
   "source": [
    "def replot_perinst(ax: maxes.Axes, embedding: str, effect: str, instrument: str, show_legend: bool):\n",
    "\n",
    "    with h5py.File(f\"embeddings/averaged/{embedding}/embeddings.h5\", \"r\") as f:\n",
    "        X_train = f[\"X_train\"][...]\n",
    "        Y_train = np.array(f[\"Y_train\"][...], dtype=str)\n",
    "\n",
    "    ccadirs_h5 = h5py.File(f\"embeddings/averaged/{embedding}/ccadirs_{effect}.h5\", 'r')\n",
    "\n",
    "    sample_indices = np.argwhere(Y_train == instrument)[:,0]\n",
    "    X_train_inst = X_train[sample_indices]\n",
    "    ccadirs_inst = ccadirs_h5[\"cca_dirs\"][sample_indices]\n",
    "    _, S, Vh = np.linalg.svd(ccadirs_inst, full_matrices=False)\n",
    "    _, S_train, Vh_train = np.linalg.svd(X_train_inst-np.mean(X_train_inst, axis=0), full_matrices=False)\n",
    "\n",
    "    ax.plot(S/S[0], label=\"CCA directions\", color=\"tab:blue\")\n",
    "    ax.plot(S_train/S_train[0], label=\"Original data\", color=\"tab:orange\")\n",
    "    if show_legend: ax.legend()\n",
    "    ax.set_xlabel(f\"Singular vector #\\n{embedding_human_names[embedding]}, {effect_human_names[effect]}\")"
   ]
  },
  {
   "cell_type": "markdown",
   "metadata": {},
   "source": [
    "# Displaying the plots"
   ]
  },
  {
   "cell_type": "code",
   "execution_count": null,
   "metadata": {},
   "outputs": [],
   "source": [
    "fig, axs = plt.subplots(1, len(embeddings), figsize=(6.5, 1.625), dpi=300, sharey=True, layout=\"constrained\")\n",
    "for ax, embedding, effect, instrument, i in zip(axs, embeddings, effects, instruments, range(len(instruments))):\n",
    "    replot_perinst(ax, embedding, effect, instrument, i == len(instruments)-1)\n",
    "\n",
    "axs[0].set_ylabel(\"Normalized\\nsing. val.\")\n",
    "\n",
    "plt.show()\n",
    "fig.savefig(\"plots/svd_singvals_ccadirs/svd_singvals_ccadirs_paper.pdf\", bbox_inches=\"tight\")"
   ]
  }
 ],
 "metadata": {
  "kernelspec": {
   "display_name": "audio-emb-sensitivity",
   "language": "python",
   "name": "python3"
  },
  "language_info": {
   "codemirror_mode": {
    "name": "ipython",
    "version": 3
   },
   "file_extension": ".py",
   "mimetype": "text/x-python",
   "name": "python",
   "nbconvert_exporter": "python",
   "pygments_lexer": "ipython3",
   "version": "3.11.9"
  }
 },
 "nbformat": 4,
 "nbformat_minor": 2
}
