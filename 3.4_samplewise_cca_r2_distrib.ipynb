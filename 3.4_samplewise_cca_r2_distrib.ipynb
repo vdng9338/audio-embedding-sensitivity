{
 "cells": [
  {
   "cell_type": "markdown",
   "metadata": {},
   "source": [
    "Sample-wise CCA R2 distributions\n",
    "================================"
   ]
  },
  {
   "cell_type": "code",
   "execution_count": 1,
   "metadata": {},
   "outputs": [],
   "source": [
    "import matplotlib.pyplot as plt\n",
    "import numpy as np"
   ]
  },
  {
   "cell_type": "code",
   "execution_count": null,
   "metadata": {},
   "outputs": [],
   "source": [
    "fig, axs = plt.subplots(4, 3, figsize=(15, 20))\n",
    "\n",
    "for irow, effect in enumerate((\"bitcrush\", \"gain\", \"lowpass_cheby\", \"reverb\")):\n",
    "    for icol, embedding in enumerate((\"openl3\", \"panns\", \"clap\")):\n",
    "        try:\n",
    "            r2s = np.loadtxt(f\"results/{effect}/cca_r2s_{embedding}.txt\")\n",
    "            axs[irow, icol].hist(r2s, bins=20)\n",
    "            axs[irow, icol].set_title(f\"{effect}, {embedding} (range: {np.min(r2s)} - {np.max(r2s)})\")\n",
    "        except FileNotFoundError:\n",
    "            pass\n",
    "fig.suptitle(\"Distributions of CCA R2 values\")\n",
    "plt.show()"
   ]
  }
 ],
 "metadata": {
  "kernelspec": {
   "display_name": "audio-emb-sensitivity",
   "language": "python",
   "name": "python3"
  },
  "language_info": {
   "codemirror_mode": {
    "name": "ipython",
    "version": 3
   },
   "file_extension": ".py",
   "mimetype": "text/x-python",
   "name": "python",
   "nbconvert_exporter": "python",
   "pygments_lexer": "ipython3",
   "version": "3.11.9"
  }
 },
 "nbformat": 4,
 "nbformat_minor": 2
}
