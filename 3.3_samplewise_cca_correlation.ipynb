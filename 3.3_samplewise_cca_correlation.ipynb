{
 "cells": [
  {
   "cell_type": "markdown",
   "metadata": {},
   "source": [
    "Computation of the sample-wise CCA correlation coefficients\n",
    "==========================================================="
   ]
  },
  {
   "cell_type": "code",
   "execution_count": 1,
   "metadata": {},
   "outputs": [],
   "source": [
    "import h5py\n",
    "import matplotlib.pyplot as plt\n",
    "from IPython.display import display\n",
    "import ipywidgets as widgets\n",
    "from ipywidgets import interactive\n",
    "import numpy as np\n",
    "import scipy\n",
    "from tqdm import tqdm\n",
    "from effect_params import effect_params_str_dict"
   ]
  },
  {
   "cell_type": "code",
   "execution_count": 2,
   "metadata": {},
   "outputs": [],
   "source": [
    "effects = [\"bitcrush\", \"gain\", \"lowpass_cheby\", \"reverb\"]\n",
    "effect = effects[0]\n",
    "\n",
    "def update_params():\n",
    "    global params\n",
    "    params = effect_params_str_dict[effect]\n",
    "\n",
    "embeddings = [\"openl3\", \"panns\", \"clap\"]\n",
    "embedding = embeddings[0]\n",
    "\n",
    "ccadirs_h5 = h5py.File(f\"embeddings/averaged/{embedding}/ccadirs_{effect}.h5\", \"r\")\n",
    "num_samples = ccadirs_h5[\"cca_dirs\"].shape[0]\n",
    "\n",
    "isample = 0"
   ]
  },
  {
   "cell_type": "code",
   "execution_count": 3,
   "metadata": {},
   "outputs": [],
   "source": [
    "output = widgets.Output()\n",
    "\n",
    "def replot(plot=True, isample_override=None):\n",
    "    X_all = []\n",
    "    Y_all = []\n",
    "    color_all = []\n",
    "\n",
    "    if isample_override is None:\n",
    "        actual_isample = isample\n",
    "    else:\n",
    "        actual_isample = isample_override\n",
    "    ccadir = ccadirs_h5[\"cca_dirs\"][actual_isample]\n",
    "\n",
    "    embeddings_sample = []\n",
    "\n",
    "    for iparam, param in enumerate(params):\n",
    "        with h5py.File(f\"embeddings/averaged/{embedding}/embeddings_{effect}_{param}.h5\", \"r\") as embeddings_h5:\n",
    "            embedding_sample = embeddings_h5[\"X_train\"][actual_isample]\n",
    "            X_all.append(np.sum(embedding_sample * ccadir))\n",
    "            Y_all.append(iparam/len(params))\n",
    "            color_all.append(float(param))\n",
    "            embeddings_sample.append(embedding_sample)\n",
    "    if plot:\n",
    "        with output:\n",
    "            output.clear_output(wait=True)\n",
    "\n",
    "            plt.scatter(X_all, Y_all, c=color_all, marker='.', cmap='twilight_shifted', s=3)\n",
    "            plt.colorbar()\n",
    "            plt.title(f\"Correlation of embeddings of {isample}-th sample with corresponding CCA direction ({effect})\")\n",
    "            plt.show()\n",
    "\n",
    "    r2 = scipy.stats.spearmanr(X_all, color_all).statistic**2\n",
    "    if plot:\n",
    "        with output: print(r2)\n",
    "    else:\n",
    "        return r2"
   ]
  },
  {
   "cell_type": "code",
   "execution_count": 4,
   "metadata": {},
   "outputs": [],
   "source": [
    "def set_effect(e):\n",
    "    global effect, ccadirs_h5\n",
    "    effect = e\n",
    "    update_params()\n",
    "    ccadirs_h5.close()\n",
    "    ccadirs_h5 = h5py.File(f\"embeddings/averaged/{embedding}/ccadirs_{effect}.h5\", \"r\")\n",
    "    replot()\n",
    "\n",
    "effect_dropdown = interactive(set_effect, e=widgets.Dropdown(options=effects, description=\"Effect\"))\n",
    "\n",
    "def set_embedding(e):\n",
    "    global embedding, ccadirs_h5\n",
    "    embedding = e\n",
    "    ccadirs_h5.close()\n",
    "    ccadirs_h5 = h5py.File(f\"embeddings/averaged/{embedding}/ccadirs_{effect}.h5\", \"r\")\n",
    "    replot()\n",
    "\n",
    "embedding_dropdown = interactive(set_embedding, e=widgets.Dropdown(options=embeddings, description=\"Embedding\"))\n",
    "\n",
    "def set_sample(i):\n",
    "    global isample\n",
    "    isample = i\n",
    "    replot()\n",
    "\n",
    "sample_slider = interactive(set_sample, i=widgets.IntSlider(value=isample, min=0, max=num_samples-1, step=1, description=\"Sample #\"))"
   ]
  },
  {
   "cell_type": "code",
   "execution_count": null,
   "metadata": {},
   "outputs": [],
   "source": [
    "display(effect_dropdown)\n",
    "display(embedding_dropdown)\n",
    "display(sample_slider)\n",
    "display(output)"
   ]
  },
  {
   "cell_type": "code",
   "execution_count": null,
   "metadata": {},
   "outputs": [],
   "source": [
    "# Run this cell to compute all the R2's for the selected audio embedding and audio effect and store them in a text file\n",
    "r2s = []\n",
    "for isample_override in tqdm(range(num_samples)):\n",
    "    r2s.append(replot(plot=False, isample_override=isample_override))\n",
    "with open(f\"results/{effect}/cca_r2s_{embedding}.txt\", \"w\") as f:\n",
    "    for r2 in r2s:\n",
    "        print(r2, file=f)"
   ]
  }
 ],
 "metadata": {
  "kernelspec": {
   "display_name": "audio-emb-sensitivity",
   "language": "python",
   "name": "python3"
  },
  "language_info": {
   "codemirror_mode": {
    "name": "ipython",
    "version": 3
   },
   "file_extension": ".py",
   "mimetype": "text/x-python",
   "name": "python",
   "nbconvert_exporter": "python",
   "pygments_lexer": "ipython3",
   "version": "3.11.9"
  }
 },
 "nbformat": 4,
 "nbformat_minor": 4
}
