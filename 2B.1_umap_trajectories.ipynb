{
 "cells": [
  {
   "cell_type": "markdown",
   "metadata": {},
   "source": [
    "UMAP visualization of embeddings\n",
    "================================"
   ]
  },
  {
   "cell_type": "code",
   "execution_count": 1,
   "metadata": {},
   "outputs": [],
   "source": [
    "import h5py\n",
    "import matplotlib.pyplot as plt\n",
    "import deem\n",
    "import numpy as np\n",
    "import pandas as pd\n",
    "from umap import UMAP\n",
    "from tqdm.notebook import tqdm\n",
    "from IPython.display import display\n",
    "import ipywidgets as widgets\n",
    "from ipywidgets import interactive\n",
    "from effect_params import effect_params_dict\n",
    "plt.rcParams['figure.constrained_layout.use'] = True"
   ]
  },
  {
   "cell_type": "markdown",
   "metadata": {},
   "source": [
    "Load embeddings"
   ]
  },
  {
   "cell_type": "code",
   "execution_count": 2,
   "metadata": {},
   "outputs": [],
   "source": [
    "meta_all = pd.read_csv(\"train_test_split.csv\")\n",
    "\n",
    "(_, Y_train), _, _ = deem.load_feature(\"embeddings/embeddings.h5\", \"openl3\", meta_all)\n",
    "\n",
    "\n",
    "effects = [\"lowpass_cheby\", \"gain\", \"reverb\", \"bitcrush\"]\n",
    "effect_human_names = {\n",
    "    \"lowpass_cheby\": \"Low-pass filtering\",\n",
    "    \"gain\": \"Gain\",\n",
    "    \"reverb\": \"Reverberation\",\n",
    "    \"bitcrush\": \"Bitcrushing\"\n",
    "}\n",
    "\n",
    "\n",
    "##### SELECT INSTRUMENT #####\n",
    "instrument_list = list(deem.instrument_map)\n",
    "inst = \"flute\"\n",
    "\n",
    "\n",
    "\n",
    "embedding_list = [\"openl3\", \"panns\", \"clap\"]\n",
    "embedding_human_names = {\n",
    "    \"openl3\": \"OpenL3\",\n",
    "    \"panns\": \"PANNs\",\n",
    "    \"clap\": \"CLAP\"\n",
    "}"
   ]
  },
  {
   "cell_type": "code",
   "execution_count": 3,
   "metadata": {},
   "outputs": [],
   "source": [
    "output = widgets.Output()\n",
    "indices = [0]\n",
    "dropdowns: \"list[interactive]\" = []"
   ]
  },
  {
   "cell_type": "code",
   "execution_count": 4,
   "metadata": {},
   "outputs": [],
   "source": [
    "def replot(*args):\n",
    "    global indices\n",
    "    for dropdown in dropdowns:\n",
    "        dropdown.out.clear_output()\n",
    "    with output:\n",
    "        output.clear_output()\n",
    "\n",
    "        fig, axs = plt.subplots(len(embedding_list), len(effects), figsize=(10, 7), dpi=300, layout=\"constrained\")\n",
    "\n",
    "        for iemb, emb in enumerate(tqdm(embedding_list)):\n",
    "            image_per_eff = [None] * len(effects)\n",
    "            for ieff, eff in enumerate(tqdm(effects)):\n",
    "                orig_h5 = h5py.File(f\"embeddings/grouped/{emb}/{eff}.h5\", \"r\")\n",
    "                X_train_A_orig = orig_h5[\"train_A\"]\n",
    "                X_train_A_inst_orig = X_train_A_orig[Y_train==inst]\n",
    "                X_train_Bs_orig = orig_h5[\"train_Bs\"]\n",
    "                paths_B_orig = X_train_Bs_orig[:].swapaxes(0, 1)\n",
    "                paths_B_inst_orig = paths_B_orig[Y_train==inst]\n",
    "                orig_h5.close()\n",
    "\n",
    "                reducer = UMAP(n_neighbors=3)\n",
    "                paths = paths_B_inst_orig[indices]\n",
    "                paths_flattened = paths.reshape((paths.shape[0] * paths.shape[1], paths.shape[2]))\n",
    "                reducer.fit(paths_flattened)\n",
    "                Y_orig = reducer.transform(X_train_A_inst_orig[indices])\n",
    "                axs[iemb, ieff].scatter(Y_orig[:, 0], Y_orig[:, 1], marker='x', color='k', zorder=10)\n",
    "                for n in indices:\n",
    "                    Y = reducer.transform(paths_B_inst_orig[n])\n",
    "                    image_per_eff[ieff] = axs[iemb, ieff].scatter(Y[:, 0], Y[:, 1], c=effect_params_dict[eff], marker='.', cmap='coolwarm')\n",
    "                \n",
    "                if iemb == 0:\n",
    "                    axs[iemb, ieff].set_title(effect_human_names[eff])\n",
    "                if ieff == 0:\n",
    "                    axs[iemb, ieff].set_ylabel(embedding_human_names[emb])\n",
    "\n",
    "        for ieff, eff in enumerate(effects):\n",
    "            # Create a colorbar with custom ticks and labels\n",
    "            cbar = fig.colorbar(image_per_eff[ieff], ax=axs[-1,ieff], location=\"bottom\")\n",
    "\n",
    "            # Set the ticks and labels of the colorbar\n",
    "            if eff == \"lowpass_cheby\":\n",
    "                cbar.set_ticks(np.arange(2000, 20000, 4000), labels=[str(k) for k in np.arange(2, 20, 4)])\n",
    "                cbar.set_label(\"\\\"Cutoff\\\" frequency (kHz)\")\n",
    "            elif eff == \"gain\":\n",
    "                cbar.set_ticks([-40, -30, -20, -10, 0], labels=[\"-40.0\", \"-30.0\", \"-20.0\", \"-10.0\", \"0.0\"])\n",
    "                cbar.set_label(\"Gain (dB)\")\n",
    "            elif eff == \"bitcrush\":\n",
    "                cbar.set_ticks([5, 8, 11, 14], labels=[\"5\", \"8\", \"11\", \"14\"])\n",
    "                cbar.set_label(\"Bit depth\")\n",
    "            elif eff == \"reverb\":\n",
    "                cbar.set_ticks([0.0, 0.2, 0.4, 0.6, 0.8, 1.0], labels=[\"0.0\", \"0.2\", \"0.4\", \"0.6\", \"0.8\", \"1.0\"])\n",
    "                cbar.set_label(\"Room size\")\n",
    "            else:\n",
    "                raise AssertionError(\"Unknown effect \" + eff + \"??\")\n",
    "\n",
    "        plt.show()\n",
    "        fig.savefig(f\"plots/umap/umap_{inst}_{'_'.join(map(str, indices))}.pdf\")\n",
    "\n",
    "\n",
    "replot_button = widgets.Button(description=\"Replot\")\n",
    "replot_button.on_click(replot)\n",
    "\n",
    "num_samples = 1\n",
    "\n",
    "def set_num_samples(n):\n",
    "    global num_samples\n",
    "    num_samples = n\n",
    "\n",
    "num_samples_slider = interactive(set_num_samples, n=widgets.IntSlider(min=1, max=20, step=1, value=num_samples, description=\"Number of samples\", style={\"description_width\": \"150px\"}))\n",
    "\n",
    "def shuffle_indices(*args):\n",
    "    global indices\n",
    "    indices = np.random.choice(np.sum(Y_train == inst), size=num_samples, replace=False)\n",
    "\n",
    "shuffle_button = widgets.Button(description=\"Shuffle indices\")\n",
    "shuffle_button.on_click(shuffle_indices)"
   ]
  },
  {
   "cell_type": "markdown",
   "metadata": {},
   "source": [
    "Usage:  \n",
    "In the cell below:\n",
    "1. Select the instrument you are interested in\n",
    "2. Select the number of samples to plot using the slider\n",
    "3. Click \"Shuffle indices\"\n",
    "4. Click \"Replot\"\n",
    "5. Wait for the plots to display; this takes some time\n",
    "\n",
    "Repeat steps 3-6 to display the path of randomly selected other samples.\n",
    "\n",
    "If you change instrument, rerun steps 1 and 3 before replotting."
   ]
  },
  {
   "cell_type": "code",
   "execution_count": 5,
   "metadata": {},
   "outputs": [
    {
     "data": {
      "application/vnd.jupyter.widget-view+json": {
       "model_id": "b82ef420cbfb4e68bd592f83621bfde3",
       "version_major": 2,
       "version_minor": 0
      },
      "text/plain": [
       "interactive(children=(Dropdown(description='Instrument', options=('clarinet', 'organ', 'cello', 'violin', 'gui…"
      ]
     },
     "metadata": {},
     "output_type": "display_data"
    },
    {
     "data": {
      "application/vnd.jupyter.widget-view+json": {
       "model_id": "30457750c0d14f449afdce33ab62d871",
       "version_major": 2,
       "version_minor": 0
      },
      "text/plain": [
       "HBox(children=(Button(description='Replot', style=ButtonStyle()), Button(description='Shuffle indices', style=…"
      ]
     },
     "metadata": {},
     "output_type": "display_data"
    },
    {
     "data": {
      "application/vnd.jupyter.widget-view+json": {
       "model_id": "bac7c5780db24b19a1ee704b284867fb",
       "version_major": 2,
       "version_minor": 0
      },
      "text/plain": [
       "interactive(children=(IntSlider(value=1, description='Number of samples', max=20, min=1, style=SliderStyle(des…"
      ]
     },
     "metadata": {},
     "output_type": "display_data"
    },
    {
     "data": {
      "application/vnd.jupyter.widget-view+json": {
       "model_id": "83d3668b6d7342899f9a0c388529f732",
       "version_major": 2,
       "version_minor": 0
      },
      "text/plain": [
       "Output()"
      ]
     },
     "metadata": {},
     "output_type": "display_data"
    }
   ],
   "source": [
    "def set_instrument(i):\n",
    "    global inst\n",
    "    inst = i\n",
    "\n",
    "inst_dropdown = interactive(set_instrument, i=instrument_list)\n",
    "inst_dropdown.children[0].description = \"Instrument\"\n",
    "inst_dropdown.children[0].style = {\"description_width\": \"150px\"}\n",
    "dropdowns.append(inst_dropdown)\n",
    "\n",
    "display(inst_dropdown)\n",
    "button_row = widgets.HBox((replot_button, shuffle_button))\n",
    "display(button_row)\n",
    "display(num_samples_slider)\n",
    "display(output)"
   ]
  }
 ],
 "metadata": {
  "kernelspec": {
   "display_name": "audio-emb-sensitivity",
   "language": "python",
   "name": "python3"
  },
  "language_info": {
   "codemirror_mode": {
    "name": "ipython",
    "version": 3
   },
   "file_extension": ".py",
   "mimetype": "text/x-python",
   "name": "python",
   "nbconvert_exporter": "python",
   "pygments_lexer": "ipython3",
   "version": "3.11.9"
  }
 },
 "nbformat": 4,
 "nbformat_minor": 4
}
